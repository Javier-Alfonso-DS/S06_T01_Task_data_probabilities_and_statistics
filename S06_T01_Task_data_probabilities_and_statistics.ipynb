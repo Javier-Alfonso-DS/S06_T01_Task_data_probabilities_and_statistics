{
 "cells": [
  {
   "cell_type": "markdown",
   "metadata": {},
   "source": [
    "# Table of Contents:\n",
    "Note.- This only works in VS Studio. For Github see Readme TOC.\n",
    "\n",
    "TOC --> *.....To Update....*\n",
    "- [Sprint 5 Task 1 ❄️ Game of Thrones](#sprint-5-task-1--game-of-thrones)\n",
    "- [Statement](#statement)\n",
    "- [Exercise 1](#exercise-1)\n",
    "    - [Part 1 - Simple random sample:](#part-1---simple-random-sample)\n",
    "    - [Part 2 - Systematic sampling:](#part-2---systematic-sampling)\n",
    "- [Exercise 2](#exercise-2)\n",
    "    - [Part 1 - Stratified sampling:](#part-1---stratified-sampling)\n",
    "    - [Part 2 - SMOTE:](#part-2---smote)\n",
    "- [Exercise 3 - Reservoir sampling](#exercise-3---reservoir-sampling)\n",
    "<!-- /TOC"
   ]
  },
  {
   "cell_type": "markdown",
   "metadata": {},
   "source": [
    "Sprint 6 Task 1: Task data, probabilities and statistics\n",
    "\n",
    "## Description\n",
    "Learn how to perform statistics with Python.\n",
    "\n",
    "Level 1\n",
    "- Exercise 1.\n",
    "Take a sports-themed data set that you like and select an attribute from the data set.  Calculate the mode, mean, standard deviation and arithmetic mean. \n",
    "\n",
    "- Exercise 2\n",
    "Continuing with the sports-themed data, select two attributes and calculate their correlation. \n",
    "\n",
    "Level 2\n",
    "- Exercise 3\n",
    "Continuing with the sports-themed data, calculate the correlation of all attributes with each other and represent them in a matrix with different colors of intensity.\n",
    "\n",
    "Level 3\n",
    "- Exercise 4\n",
    "Continuing with the sports-themed data, select an attribute and calculate the geometric median and the harmonic median.\n"
   ]
  },
  {
   "cell_type": "code",
   "execution_count": null,
   "metadata": {},
   "outputs": [],
   "source": [
    "# Import Libraries\n",
    "import numpy as np\n",
    "import pandas as pd"
   ]
  },
  {
   "cell_type": "code",
   "execution_count": null,
   "metadata": {},
   "outputs": [],
   "source": [
    "import warnings\n",
    "# warnings.filterwarnings('ignore')\n",
    "warnings.filterwarnings(\"default\")"
   ]
  },
  {
   "cell_type": "markdown",
   "metadata": {},
   "source": [
    "## Level 1\n",
    "### - Exercise 1.\n",
    "Take a sports-themed data set that you like and select an attribute from the data set.  Calculate the mode, mean, standard deviation and arithmetic mean."
   ]
  },
  {
   "cell_type": "code",
   "execution_count": null,
   "metadata": {},
   "outputs": [],
   "source": [
    "df = pd.read_csv('./game-of-thrones.csv')\n",
    "df"
   ]
  }
 ],
 "metadata": {
  "interpreter": {
   "hash": "494e690407c5c7c9b2fbc0a1227ada2e3d821eefed538763ba3356ad470e06f1"
  },
  "kernelspec": {
   "display_name": "Python 3.9.7 64-bit ('base': conda)",
   "language": "python",
   "name": "python3"
  },
  "language_info": {
   "name": "python",
   "version": "3.9.7"
  },
  "orig_nbformat": 4
 },
 "nbformat": 4,
 "nbformat_minor": 2
}
